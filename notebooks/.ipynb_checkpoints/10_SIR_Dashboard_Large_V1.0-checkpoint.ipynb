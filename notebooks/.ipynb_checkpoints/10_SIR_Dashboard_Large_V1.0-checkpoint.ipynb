{
 "cells": [
  {
   "cell_type": "code",
   "execution_count": 1,
   "metadata": {},
   "outputs": [],
   "source": [
    "import pandas as pd\n",
    "import numpy as np\n",
    "\n",
    "from datetime import datetime\n",
    "import pandas as pd \n",
    "\n",
    "from scipy import optimize\n",
    "from scipy import integrate\n",
    "\n",
    "%matplotlib inline\n",
    "import matplotlib as mpl\n",
    "import matplotlib.pyplot as plt\n",
    "\n",
    "import seaborn as sns\n",
    "\n",
    "\n",
    "sns.set(style=\"darkgrid\")\n",
    "\n",
    "mpl.rcParams['figure.figsize'] = (16, 9)\n",
    "pd.set_option('display.max_rows', 500)"
   ]
  },
  {
   "cell_type": "code",
   "execution_count": 2,
   "metadata": {
    "scrolled": true
   },
   "outputs": [
    {
     "data": {
      "text/html": [
       "<div>\n",
       "<style scoped>\n",
       "    .dataframe tbody tr th:only-of-type {\n",
       "        vertical-align: middle;\n",
       "    }\n",
       "\n",
       "    .dataframe tbody tr th {\n",
       "        vertical-align: top;\n",
       "    }\n",
       "\n",
       "    .dataframe thead th {\n",
       "        text-align: right;\n",
       "    }\n",
       "</style>\n",
       "<table border=\"1\" class=\"dataframe\">\n",
       "  <thead>\n",
       "    <tr style=\"text-align: right;\">\n",
       "      <th></th>\n",
       "      <th>date</th>\n",
       "      <th>Italy</th>\n",
       "      <th>US</th>\n",
       "      <th>Spain</th>\n",
       "      <th>Germany</th>\n",
       "      <th>Korea, South</th>\n",
       "    </tr>\n",
       "  </thead>\n",
       "  <tbody>\n",
       "    <tr>\n",
       "      <th>0</th>\n",
       "      <td>2020-01-22</td>\n",
       "      <td>0</td>\n",
       "      <td>1</td>\n",
       "      <td>0</td>\n",
       "      <td>0</td>\n",
       "      <td>1</td>\n",
       "    </tr>\n",
       "    <tr>\n",
       "      <th>1</th>\n",
       "      <td>2020-01-23</td>\n",
       "      <td>0</td>\n",
       "      <td>1</td>\n",
       "      <td>0</td>\n",
       "      <td>0</td>\n",
       "      <td>1</td>\n",
       "    </tr>\n",
       "    <tr>\n",
       "      <th>2</th>\n",
       "      <td>2020-01-24</td>\n",
       "      <td>0</td>\n",
       "      <td>2</td>\n",
       "      <td>0</td>\n",
       "      <td>0</td>\n",
       "      <td>2</td>\n",
       "    </tr>\n",
       "    <tr>\n",
       "      <th>3</th>\n",
       "      <td>2020-01-25</td>\n",
       "      <td>0</td>\n",
       "      <td>2</td>\n",
       "      <td>0</td>\n",
       "      <td>0</td>\n",
       "      <td>2</td>\n",
       "    </tr>\n",
       "    <tr>\n",
       "      <th>4</th>\n",
       "      <td>2020-01-26</td>\n",
       "      <td>0</td>\n",
       "      <td>5</td>\n",
       "      <td>0</td>\n",
       "      <td>0</td>\n",
       "      <td>3</td>\n",
       "    </tr>\n",
       "  </tbody>\n",
       "</table>\n",
       "</div>"
      ],
      "text/plain": [
       "         date  Italy  US  Spain  Germany  Korea, South\n",
       "0  2020-01-22      0   1      0        0             1\n",
       "1  2020-01-23      0   1      0        0             1\n",
       "2  2020-01-24      0   2      0        0             2\n",
       "3  2020-01-25      0   2      0        0             2\n",
       "4  2020-01-26      0   5      0        0             3"
      ]
     },
     "execution_count": 2,
     "metadata": {},
     "output_type": "execute_result"
    }
   ],
   "source": [
    "# parsed the dates right at the beginning \n",
    "# works out of the box if the date was stored ISO YYYY-MM-DD format\n",
    "\n",
    "df_analyse=pd.read_csv('../data/processed/COVID_small_flat_table.csv',sep=';')  \n",
    "df_analyse.sort_values('date',ascending=True).head()"
   ]
  },
  {
   "cell_type": "markdown",
   "metadata": {},
   "source": [
    "## 9.1 Simulative approach to calculate SIR curves"
   ]
  },
  {
   "cell_type": "markdown",
   "metadata": {},
   "source": [
    "- The SIR model is a simple model, due to Kermack and McKendrick, of an epidemic of an infectious disease in a large population. We assume the population consists of three types of individuals, whose numbers are denoted by the letters S(suspectible), I (infected)and R (recovered).\n",
    "- To check SIR model, click on the link: SIR Model for Spread of Disease."
   ]
  },
  {
   "cell_type": "code",
   "execution_count": 3,
   "metadata": {},
   "outputs": [],
   "source": [
    "# basic parameters set\n",
    "# beta/gamma is denoted as 'basic reproduction number'\n",
    "\n",
    "N0=1000000 # max susceptible population\n",
    "beta=0.4   # infection spread dynamics\n",
    "gamma=0.1  # recovery rate\n",
    "\n",
    "\n",
    "# condition I0+S0+R0=N0\n",
    "I0=df_analyse.Germany[35]\n",
    "S0=N0-I0\n",
    "R0=0"
   ]
  },
  {
   "cell_type": "code",
   "execution_count": 4,
   "metadata": {},
   "outputs": [],
   "source": [
    "def SIR_model(SIR,beta,gamma):\n",
    "    ''' Simple SIR model\n",
    "        S: susceptible population\n",
    "        I: infected people\n",
    "        R: recovered people\n",
    "        beta: \n",
    "        \n",
    "        overall condition is that the sum of changes (differnces) sum up to 0\n",
    "        dS+dI+dR=0\n",
    "        S+I+R= N (constant size of population)\n",
    "    \n",
    "    '''\n",
    "    \n",
    "    S,I,R=SIR\n",
    "    dS_dt=-beta*S*I/N0          #S*I is the \n",
    "    dI_dt=beta*S*I/N0-gamma*I\n",
    "    dR_dt=gamma*I\n",
    "    return([dS_dt,dI_dt,dR_dt])"
   ]
  },
  {
   "cell_type": "code",
   "execution_count": 5,
   "metadata": {},
   "outputs": [],
   "source": [
    "SIR=np.array([S0,I0,R0])\n",
    "propagation_rates=pd.DataFrame(columns={'susceptible':S0,\n",
    "                                        'infected':I0,\n",
    "                                        'recoverd':R0})\n",
    "\n",
    "\n",
    "\n",
    "for each_t in np.arange(100):\n",
    "   \n",
    "    new_delta_vec=SIR_model(SIR,beta,gamma)\n",
    "   \n",
    "    SIR=SIR+new_delta_vec\n",
    "    \n",
    "    propagation_rates=propagation_rates.append({'susceptible':SIR[0],\n",
    "                                                'infected':SIR[1],\n",
    "                                                'recovered':SIR[2]}, ignore_index=True)"
   ]
  },
  {
   "cell_type": "code",
   "execution_count": 6,
   "metadata": {},
   "outputs": [
    {
     "data": {
      "image/png": "[encoded data removed]",
      "text/plain": [
       "<Figure size 1152x648 with 1 Axes>"
      ]
     },
     "metadata": {},
     "output_type": "display_data"
    }
   ],
   "source": [
    "fig, ax1 = plt.subplots(1, 1)\n",
    "\n",
    "ax1.plot(propagation_rates.index,propagation_rates.infected,label='infected',color='k')\n",
    "ax1.plot(propagation_rates.index,propagation_rates.recovered,label='recovered')\n",
    "ax1.plot(propagation_rates.index,propagation_rates.susceptible,label='susceptible')\n",
    "\n",
    "ax1.set_ylim(10, 1000000)\n",
    "ax1.set_yscale('linear')\n",
    "ax1.set_title('Scenario SIR simulations  (demonstration purposes only)',size=16)\n",
    "ax1.set_xlabel('time in days',size=16)\n",
    "ax1.legend(loc='best',\n",
    "           prop={'size': 16});"
   ]
  },
  {
   "cell_type": "markdown",
   "metadata": {},
   "source": [
    "# Fitting the parameters of SIR model"
   ]
  },
  {
   "cell_type": "code",
   "execution_count": 7,
   "metadata": {},
   "outputs": [],
   "source": [
    "ydata = np.array(df_analyse.Germany[35:])\n",
    "t=np.arange(len(ydata))"
   ]
  },
  {
   "cell_type": "code",
   "execution_count": 8,
   "metadata": {},
   "outputs": [
    {
     "data": {
      "text/plain": [
       "0.4"
      ]
     },
     "execution_count": 8,
     "metadata": {},
     "output_type": "execute_result"
    }
   ],
   "source": [
    "# ensure re-initialization \n",
    "I0=ydata[0]\n",
    "S0=N0-I0\n",
    "R0=0\n",
    "beta"
   ]
  },
  {
   "cell_type": "code",
   "execution_count": 9,
   "metadata": {},
   "outputs": [],
   "source": [
    "def SIR_model_t(SIR,t,beta,gamma):\n",
    "    ''' Simple SIR model\n",
    "        S: susceptible population\n",
    "        t: time step, mandatory for integral.odeint\n",
    "        I: infected people\n",
    "        R: recovered people\n",
    "        beta: \n",
    "        \n",
    "        overall condition is that the sum of changes (differnces) sum up to 0\n",
    "        dS+dI+dR=0\n",
    "        S+I+R= N (constant size of population)\n",
    "    \n",
    "    '''\n",
    "    \n",
    "    S,I,R=SIR\n",
    "    dS_dt=-beta*S*I/N0          #S*I is the \n",
    "    dI_dt=beta*S*I/N0-gamma*I\n",
    "    dR_dt=gamma*I\n",
    "    return dS_dt,dI_dt,dR_dt"
   ]
  },
  {
   "cell_type": "code",
   "execution_count": 10,
   "metadata": {},
   "outputs": [],
   "source": [
    "def fit_odeint(x, beta, gamma):\n",
    "    '''\n",
    "    helper function for the integration\n",
    "    '''\n",
    "    return integrate.odeint(SIR_model_t, (S0, I0, R0), t, args=(beta, gamma))[:,1] # we only would like to get dI"
   ]
  },
  {
   "cell_type": "code",
   "execution_count": 11,
   "metadata": {},
   "outputs": [
    {
     "data": {
      "text/plain": [
       "array([2.70000000e+01, 3.64457071e+01, 4.91956207e+01, 6.64053493e+01,\n",
       "       8.96344660e+01, 1.20987564e+02, 1.63304428e+02, 2.20416326e+02,\n",
       "       2.97491205e+02, 4.01498275e+02, 5.41832616e+02, 7.31153728e+02,\n",
       "       9.86509149e+02, 1.33083608e+03, 1.79496099e+03, 2.42024936e+03,\n",
       "       3.26209305e+03, 4.39445723e+03, 5.91573047e+03, 7.95611026e+03,\n",
       "       1.06866705e+04, 1.43300301e+04, 1.91720581e+04, 2.55731545e+04,\n",
       "       3.39761277e+04, 4.49053964e+04, 5.89492486e+04, 7.67139399e+04,\n",
       "       9.87375269e+04, 1.25356226e+05, 1.56531317e+05, 1.91671801e+05,\n",
       "       2.29519056e+05, 2.68172791e+05, 3.05306626e+05, 3.38543581e+05,\n",
       "       3.65876662e+05, 3.85989183e+05, 3.98379367e+05, 4.03287154e+05,\n",
       "       4.01494345e+05, 3.94088591e+05, 3.82258097e+05, 3.67146745e+05,\n",
       "       3.49770632e+05, 3.30982618e+05, 3.11468385e+05, 2.91760020e+05,\n",
       "       2.72257377e+05, 2.53251232e+05, 2.34945074e+05, 2.17474127e+05,\n",
       "       2.00921199e+05, 1.85329524e+05, 1.70712933e+05, 1.57063815e+05,\n",
       "       1.44359259e+05, 1.32565765e+05, 1.21642813e+05, 1.11545564e+05,\n",
       "       1.02226863e+05, 9.36387307e+04, 8.57334416e+04, 7.84642998e+04,\n",
       "       7.17861783e+04, 6.56558807e+04, 6.00323689e+04, 5.48768901e+04,\n",
       "       5.01530289e+04, 4.58267049e+04, 4.18661305e+04, 3.82417403e+04,\n",
       "       3.49261022e+04, 3.18938152e+04, 2.91214009e+04, 2.65871902e+04,\n",
       "       2.42712110e+04, 2.21550757e+04, 2.02218730e+04, 1.84560630e+04,\n",
       "       1.68433769e+04, 1.53707223e+04, 1.40260933e+04, 1.27984864e+04,\n",
       "       1.16778218e+04, 1.06548694e+04, 9.72118107e+03, 8.86902645e+03,\n",
       "       8.09133454e+03, 7.38163912e+03, 6.73402852e+03, 6.14309926e+03,\n",
       "       5.60391339e+03, 5.11195921e+03, 4.66311514e+03, 4.25361655e+03,\n",
       "       3.88002533e+03, 3.53920195e+03, 3.22827983e+03, 2.94464190e+03,\n",
       "       2.68589908e+03, 2.44987061e+03, 2.23456602e+03, 2.03816867e+03,\n",
       "       1.85902067e+03, 1.69560907e+03, 1.54655329e+03, 1.41059358e+03,\n",
       "       1.28658047e+03, 1.17346523e+03, 1.07029100e+03, 9.76184786e+02,\n",
       "       8.90350170e+02, 8.12060571e+02, 7.40653160e+02, 6.75523264e+02,\n",
       "       6.16119292e+02, 5.61938065e+02, 5.12520594e+02, 4.67448188e+02,\n",
       "       4.26338934e+02, 3.88844464e+02, 3.54647015e+02, 3.23456742e+02,\n",
       "       2.95009268e+02, 2.69063450e+02, 2.45399334e+02, 2.23816302e+02,\n",
       "       2.04131365e+02, 1.86177625e+02, 1.69802849e+02, 1.54868191e+02,\n",
       "       1.41247011e+02, 1.28823801e+02, 1.17493212e+02, 1.07159155e+02,\n",
       "       9.77339925e+01, 8.91377899e+01, 8.12976444e+01, 7.41470623e+01,\n",
       "       6.76253981e+01])"
      ]
     },
     "execution_count": 11,
     "metadata": {},
     "output_type": "execute_result"
    }
   ],
   "source": [
    "# example curve of our differential equationa\n",
    "popt=[0.4,0.1]\n",
    "fit_odeint(t, *popt)"
   ]
  },
  {
   "cell_type": "code",
   "execution_count": 12,
   "metadata": {},
   "outputs": [],
   "source": [
    "# the resulting curve has to be fitted\n",
    "# free parameters are here beta and gamma"
   ]
  },
  {
   "cell_type": "code",
   "execution_count": 13,
   "metadata": {},
   "outputs": [
    {
     "name": "stderr",
     "output_type": "stream",
     "text": [
      "<ipython-input-9-16f200073f8a>:16: RuntimeWarning: overflow encountered in double_scalars\n",
      "  dS_dt=-beta*S*I/N0          #S*I is the\n",
      "<ipython-input-9-16f200073f8a>:17: RuntimeWarning: overflow encountered in double_scalars\n",
      "  dI_dt=beta*S*I/N0-gamma*I\n",
      "C:\\Users\\SurabhiD\\anaconda3\\lib\\site-packages\\scipy\\integrate\\odepack.py:247: ODEintWarning: Illegal input detected (internal error). Run with full_output = 1 to get quantitative information.\n",
      "  warnings.warn(warning_msg, ODEintWarning)\n",
      "C:\\Users\\SurabhiD\\anaconda3\\lib\\site-packages\\scipy\\integrate\\odepack.py:247: ODEintWarning: Excess work done on this call (perhaps wrong Dfun type). Run with full_output = 1 to get quantitative information.\n",
      "  warnings.warn(warning_msg, ODEintWarning)\n"
     ]
    },
    {
     "name": "stdout",
     "output_type": "stream",
     "text": [
      "standard deviation errors :  [0.00337432 0.00313991]  start infect: 27\n",
      "Optimal parameters: beta = 0.17492641711482287  and gamma =  0.06442698410170015\n"
     ]
    }
   ],
   "source": [
    "popt, pcov = optimize.curve_fit(fit_odeint, t, ydata)\n",
    "perr = np.sqrt(np.diag(pcov))\n",
    "    \n",
    "print('standard deviation errors : ',str(perr), ' start infect:',ydata[0])\n",
    "print(\"Optimal parameters: beta =\", popt[0], \" and gamma = \", popt[1])"
   ]
  },
  {
   "cell_type": "code",
   "execution_count": 14,
   "metadata": {},
   "outputs": [],
   "source": [
    "# get the final fitted curve\n",
    "fitted=fit_odeint(t, *popt)"
   ]
  },
  {
   "cell_type": "code",
   "execution_count": null,
   "metadata": {},
   "outputs": [],
   "source": [
    "plt.semilogy(t, ydata, 'o')\n",
    "plt.semilogy(t, fitted)\n",
    "plt.title(\"Fit of SIR model for Germany cases\")\n",
    "plt.ylabel(\"Population infected\")\n",
    "plt.xlabel(\"Days\")\n",
    "plt.show()\n",
    "print(\"Optimal parameters: beta =\", popt[0], \" and gamma = \", popt[1])\n",
    "print(\"Basic Reproduction Number R0 \" , popt[0]/ popt[1])\n",
    "print(\"This ratio is derived as the expected number of new infections (these new infections are sometimes called secondary infections from a single infection in a population where all subjects are susceptible. @wiki\")"
   ]
  },
  {
   "cell_type": "markdown",
   "metadata": {},
   "source": [
    "# Dynamic beta in SIR (infection rate"
   ]
  },
  {
   "cell_type": "code",
   "execution_count": null,
   "metadata": {},
   "outputs": [],
   "source": [
    "t_initial=28 # For germany, when infected cases were rising\n",
    "t_intro_measures=14 # Time period, when lockdown was introduced \n",
    "t_hold=21 # Time period, when lockdown was holded \n",
    "t_relax=21 # Time period, when lockdown was easen\n",
    "\n",
    "beta_max=0.4 # max_value of parameter for infected cases\n",
    "beta_min=0.11 # min_value of parameter for infected cases\n",
    "gamma=0.1 # parameter value for recovered cases\n",
    "# concatenate all parameter with their relatable time period\n",
    "pd_beta=np.concatenate((np.array(t_initial*[beta_max]),\n",
    "                       np.linspace(beta_max,beta_min,t_intro_measures),\n",
    "                       np.array(t_hold*[beta_min]),\n",
    "                        np.linspace(beta_min,beta_max,t_relax),\n",
    "                       ))"
   ]
  },
  {
   "cell_type": "code",
   "execution_count": null,
   "metadata": {},
   "outputs": [],
   "source": [
    "pd_beta"
   ]
  },
  {
   "cell_type": "code",
   "execution_count": null,
   "metadata": {},
   "outputs": [],
   "source": [
    "SIR=np.array([S0,I0,R0])\n",
    "propagation_rates=pd.DataFrame(columns={'susceptible':S0,\n",
    "                                        'infected':I0,\n",
    "                                        'recoverd':R0})\n",
    "\n",
    "\n",
    "\n",
    "for each_beta in pd_beta:\n",
    "   \n",
    "    new_delta_vec=SIR_model(SIR,each_beta,gamma)\n",
    "   \n",
    "    SIR=SIR+new_delta_vec\n",
    "    \n",
    "    propagation_rates=propagation_rates.append({'susceptible':SIR[0],\n",
    "                                                'infected':SIR[1],\n",
    "                                                'recovered':SIR[2]}, ignore_index=True)"
   ]
  },
  {
   "cell_type": "code",
   "execution_count": null,
   "metadata": {},
   "outputs": [],
   "source": [
    "fig, ax1 = plt.subplots(1, 1)\n",
    "\n",
    "ax1.plot(propagation_rates.index,propagation_rates.infected,label='infected',linewidth=3)\n",
    "\n",
    "t_phases=np.array([t_initial,t_intro_measures,t_hold,t_relax]).cumsum()\n",
    "ax1.bar(np.arange(len(ydata)),ydata, width=0.8,label=' current infected Germany',color='r')\n",
    "ax1.axvspan(0,t_phases[0], facecolor='b', alpha=0.2,label='no measures')\n",
    "ax1.axvspan(t_phases[0],t_phases[1], facecolor='b', alpha=0.3,label='hard measures introduced')\n",
    "ax1.axvspan(t_phases[1],t_phases[2], facecolor='b', alpha=0.4,label='hold measures')\n",
    "ax1.axvspan(t_phases[2],t_phases[3], facecolor='b', alpha=0.5,label='relax measures')\n",
    "ax1.axvspan(t_phases[3],len(propagation_rates.infected), facecolor='b', alpha=0.6,label='repead hard measures')\n",
    "\n",
    "ax1.set_ylim(10, 1.5*max(propagation_rates.infected))\n",
    "ax1.set_yscale('log')\n",
    "ax1.set_title('Szenario SIR simulations  (demonstration purposes only)',size=16)\n",
    "ax1.set_xlabel('time in days',size=16)\n",
    "ax1.legend(loc='best',\n",
    "           prop={'size': 16});"
   ]
  },
  {
   "cell_type": "markdown",
   "metadata": {},
   "source": [
    "## Dash App for SIR model"
   ]
  },
  {
   "cell_type": "markdown",
   "metadata": {},
   "source": [
    "- we will use the large dataset file containing multiple countries (more than 100)"
   ]
  },
  {
   "cell_type": "code",
   "execution_count": null,
   "metadata": {},
   "outputs": [],
   "source": [
    "#import data frame\n",
    "data_raw = pd.read_csv('../data/raw/COVID-19/csse_covid_19_data/csse_covid_19_time_series/time_series_covid19_confirmed_global.csv')\n",
    "country_list = data_raw['Country/Region'].unique() #making country_list\n",
    "date = data_raw.columns[4:]\n",
    "df_ssd = pd.DataFrame({'Date': date})\n",
    "\n",
    "#convert data_raw DataFrame into format that can be used for SIR algorithm\n",
    "for each in country_list:\n",
    "    df_ssd[each] = np.array(data_raw[data_raw['Country/Region'] == each].iloc[:,4::].sum(axis=0)).T\n",
    "df_ssd.to_csv(\"../data/raw/COVID-19/csse_covid_19_data/SIR.csv\", sep = ';', index=False)\n",
    "\n",
    "df_analyse=pd.read_csv('../data/raw/COVID-19/csse_covid_19_data/SIR.csv',sep=';')\n",
    "df_analyse.sort_values('Date',ascending=True).head()"
   ]
  },
  {
   "cell_type": "markdown",
   "metadata": {},
   "source": [
    "### SIR model and fitted curve parameter for all countries"
   ]
  },
  {
   "cell_type": "code",
   "execution_count": null,
   "metadata": {},
   "outputs": [],
   "source": [
    "# Intialize parameter\n",
    "N0 = 1000000\n",
    "beta = 0.4\n",
    "gamma = 0.1\n",
    "I0=df_analyse.Germany[35]\n",
    "S0=N0-I0\n",
    "R0=0\n",
    "\n",
    "df_data = df_analyse[35:] # need to be careful here because it difffers from each country\n",
    "t = np.arange(df_data.shape[0])\n",
    "\n",
    "#calculate optimize parameters for every country\n",
    "for country in df_data.columns[1:]:\n",
    "        ydata = np.array(df_data[df_data[country]>0][country]) ## consider only value, which greater than zero to solve above mentioned problem\n",
    "        t = np.arange(len(ydata))\n",
    "        I0=ydata[0]\n",
    "        S0=N0-I0\n",
    "        R0=0\n",
    "        popt=[0.4,0.1]\n",
    "        fit_odeint(t, *popt)\n",
    "        popt, pcov = optimize.curve_fit(fit_odeint, t, ydata, maxfev=5000)\n",
    "        perr = np.sqrt(np.diag(pcov))\n",
    "        fitted=fit_odeint(t, *popt)\n",
    "        fitted_pad = np.concatenate((np.zeros(df_data.shape[0]-len(fitted)) ,fitted))\n",
    "        df_data[country + '_fitted'] = fitted_pad\n",
    "\n",
    "df_data = df_data.reset_index(drop=True)\n",
    "df_data.to_csv('../data/processed/SIR_fitted.csv', sep = ';')"
   ]
  },
  {
   "cell_type": "code",
   "execution_count": null,
   "metadata": {},
   "outputs": [],
   "source": [
    "df_data.head()"
   ]
  },
  {
   "cell_type": "code",
   "execution_count": null,
   "metadata": {},
   "outputs": [],
   "source": [
    "#create plot for germany to see if the calculation works\n",
    "fig = go.Figure()\n",
    "fig.add_trace(go.Scatter(x = df_data['Date'],y = df_data['Germany_fitted'],name= 'fitted_germany',\n",
    "                             mode='markers+lines',line_width = 1,marker_size = 3),\n",
    "             )\n",
    "\n",
    "fig.add_trace(go.Scatter(x = df_data['Date'],y = df_data['Germany'],name= 'source_germany',\n",
    "                             mode='markers+lines',line_width = 1,marker_size = 3),\n",
    "                 )\n",
    "\n",
    "fig.update_layout(title={'text': 'SIR fitted curve with confirmed cases [Only for Germany]','y':0.9,'x':0.5,'xanchor': 'center','yanchor': 'top'},\n",
    "                  xaxis_title='Timeline in Days', yaxis_title='Total cases of infected people',width=800, height=600)\n",
    "fig.update_yaxes(type = 'log')\n",
    "fig.update_layout(xaxis_rangeslider_visible=True)"
   ]
  },
  {
   "cell_type": "code",
   "execution_count": null,
   "metadata": {},
   "outputs": [],
   "source": [
    "# to display different colours for each countries both curve, and colour will be random when the color list is updated\n",
    "color_list = []\n",
    "for i in range(200):\n",
    "    var = '#%02x%02x%02x'%(random.randint(0,255),random.randint(0,255),random.randint(0,255))\n",
    "    color_list.append(var)"
   ]
  },
  {
   "cell_type": "code",
   "execution_count": null,
   "metadata": {},
   "outputs": [],
   "source": [
    "# create dashboard app containig plot of source and fitted SIR curve data for the complete dataset\n",
    "fig = go.Figure()\n",
    "app = dash.Dash()\n",
    "app.layout = html.Div([\n",
    "\n",
    "    dcc.Markdown('''\n",
    "    #  Data Science Project @ TU_KL on COVID-19 Dataset-Part 2\n",
    "    ## Real and simulated number of infected people\n",
    "\n",
    "    * The default layout contains the confirmed infected cases in the log-scale format on the Y-axis\n",
    "    and Timeline in Days on the X-axis.\n",
    "    ### The dropdown menu enables selection of one or multiple countries for visualization.\n",
    "\n",
    "    * This dashboard plots two curves for each country:\n",
    "    \n",
    "    1. The first curve represents the confirmed infected cases along the timeline.\n",
    "    2. The second curve represents the simulated infected cases after applying the SIR model along the timeline. \n",
    "    \n",
    "    '''),\n",
    "\n",
    "    dcc.Markdown('''\n",
    "    ## Multi-Select Country for visualization\n",
    "    '''),\n",
    "    dcc.Dropdown(\n",
    "        id='country_drop_down',\n",
    "        options=[ {'label': each,'value':each} for each in df_data.columns[1:200]],\n",
    "        value=['Germany','India'], # which are pre-selected\n",
    "        multi=True),dcc.Graph(figure=fig, id='main_window_slope')])\n",
    "\n",
    "@app.callback(\n",
    "    Output('main_window_slope', 'figure'),\n",
    "    [Input('country_drop_down', 'value')])\n",
    "def update_figure(country_list):\n",
    "    v = 0\n",
    "    my_yaxis={'type':\"log\",'title':'Confirmed infected people (From johns hopkins csse, log-scale)'}\n",
    "    traces = []\n",
    "    for each in country_list:\n",
    "        traces.append(dict(x=df_data['Date'],y=df_data[each],\n",
    "                                mode='line', line = dict(color = color_list[v]), opacity=1.0,name=each))\n",
    "        traces.append(dict(x=df_data['Date'],\n",
    "                                y=df_data[each+'_fitted'],\n",
    "                                mode='markers+lines',line = dict(color=color_list[v]), opacity=1.0,name=each+'_simulated'))\n",
    "\n",
    "        v = v+1\n",
    "    return {\n",
    "            'data': traces,\n",
    "            'layout': dict (\n",
    "                width=1280,height=720,\n",
    "                xaxis={'title':'Timeline','tickangle':-45,'nticks':20,\n",
    "                'tickfont':dict(size=14,color=\"#0c6887\"),},yaxis=my_yaxis)}\n",
    "\n",
    "if __name__ == '__main__':\n",
    "    app.run_server(debug=True, use_reloader=False)"
   ]
  }
 ],
 "metadata": {
  "kernelspec": {
   "display_name": "Python 3",
   "language": "python",
   "name": "python3"
  },
  "language_info": {
   "codemirror_mode": {
    "name": "ipython",
    "version": 3
   },
   "file_extension": ".py",
   "mimetype": "text/x-python",
   "name": "python",
   "nbconvert_exporter": "python",
   "pygments_lexer": "ipython3",
   "version": "3.8.3"
  }
 },
 "nbformat": 4,
 "nbformat_minor": 4
}
